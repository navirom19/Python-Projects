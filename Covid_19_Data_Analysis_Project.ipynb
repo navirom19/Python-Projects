{
  "nbformat": 4,
  "nbformat_minor": 0,
  "metadata": {
    "colab": {
      "provenance": [],
      "authorship_tag": "ABX9TyM2w/5lfOWWYeWmpVz6C5CA",
      "include_colab_link": true
    },
    "kernelspec": {
      "name": "python3",
      "display_name": "Python 3"
    },
    "language_info": {
      "name": "python"
    }
  },
  "cells": [
    {
      "cell_type": "markdown",
      "metadata": {
        "id": "view-in-github",
        "colab_type": "text"
      },
      "source": [
        "<a href=\"https://colab.research.google.com/github/navirom19/Python-Projects/blob/main/Covid_19_Data_Analysis_Project.ipynb\" target=\"_parent\"><img src=\"https://colab.research.google.com/assets/colab-badge.svg\" alt=\"Open In Colab\"/></a>"
      ]
    },
    {
      "cell_type": "markdown",
      "source": [
        "# **Covid - 19 Data Analysis Project:**"
      ],
      "metadata": {
        "id": "FS_8PSjmB30D"
      }
    },
    {
      "cell_type": "markdown",
      "source": [
        "**Import Required Libraries**"
      ],
      "metadata": {
        "id": "h18FqrvCNQvJ"
      }
    },
    {
      "cell_type": "code",
      "source": [
        "import pandas as pd\n",
        "import numpy as np\n",
        "import seaborn as sns\n",
        "import matplotlib.pyplot as plt"
      ],
      "metadata": {
        "id": "ay57RVH_CBPD"
      },
      "execution_count": null,
      "outputs": []
    },
    {
      "cell_type": "markdown",
      "source": [
        "## 1). Import the dataset using Pandas from above mentioned url."
      ],
      "metadata": {
        "id": "ipESmPLYCRC1"
      }
    },
    {
      "cell_type": "code",
      "source": [
        "url = \"https://raw.githubusercontent.com/SR1608/Datasets/main/covid-data.csv\"\n",
        "df = pd.read_csv(url)"
      ],
      "metadata": {
        "id": "5To7NlpJCY79"
      },
      "execution_count": null,
      "outputs": []
    },
    {
      "cell_type": "markdown",
      "source": [
        "## 2). High Level Data Understanding:"
      ],
      "metadata": {
        "id": "6C5Q0y-rChoG"
      }
    },
    {
      "cell_type": "code",
      "source": [
        "# A. Find no. of rows & columns in the dataset\n",
        "print(\"Number of rows and columns:\", df.shape)"
      ],
      "metadata": {
        "colab": {
          "base_uri": "https://localhost:8080/"
        },
        "id": "w6Yd-h0eCkGe",
        "outputId": "2d1197ff-a16b-432e-dd3c-a4d325568126"
      },
      "execution_count": null,
      "outputs": [
        {
          "output_type": "stream",
          "name": "stdout",
          "text": [
            "Number of rows and columns: (57394, 49)\n"
          ]
        }
      ]
    },
    {
      "cell_type": "code",
      "source": [
        "# B. Data types of columns\n",
        "print(\"Data types of columns:\\n\", df.dtypes)"
      ],
      "metadata": {
        "colab": {
          "base_uri": "https://localhost:8080/"
        },
        "id": "YWaRKD73C6JI",
        "outputId": "d70b5a79-7858-4d10-a6a0-23116f3a554f"
      },
      "execution_count": null,
      "outputs": [
        {
          "output_type": "stream",
          "name": "stdout",
          "text": [
            "Data types of columns:\n",
            " iso_code                               object\n",
            "continent                              object\n",
            "location                               object\n",
            "date                                   object\n",
            "total_cases                           float64\n",
            "new_cases                             float64\n",
            "new_cases_smoothed                    float64\n",
            "total_deaths                          float64\n",
            "new_deaths                            float64\n",
            "new_deaths_smoothed                   float64\n",
            "total_cases_per_million               float64\n",
            "new_cases_per_million                 float64\n",
            "new_cases_smoothed_per_million        float64\n",
            "total_deaths_per_million              float64\n",
            "new_deaths_per_million                float64\n",
            "new_deaths_smoothed_per_million       float64\n",
            "reproduction_rate                     float64\n",
            "icu_patients                          float64\n",
            "icu_patients_per_million              float64\n",
            "hosp_patients                         float64\n",
            "hosp_patients_per_million             float64\n",
            "weekly_icu_admissions                 float64\n",
            "weekly_icu_admissions_per_million     float64\n",
            "weekly_hosp_admissions                float64\n",
            "weekly_hosp_admissions_per_million    float64\n",
            "total_tests                           float64\n",
            "new_tests                             float64\n",
            "total_tests_per_thousand              float64\n",
            "new_tests_per_thousand                float64\n",
            "new_tests_smoothed                    float64\n",
            "new_tests_smoothed_per_thousand       float64\n",
            "tests_per_case                        float64\n",
            "positive_rate                         float64\n",
            "stringency_index                      float64\n",
            "population                            float64\n",
            "population_density                    float64\n",
            "median_age                            float64\n",
            "aged_65_older                         float64\n",
            "aged_70_older                         float64\n",
            "gdp_per_capita                        float64\n",
            "extreme_poverty                       float64\n",
            "cardiovasc_death_rate                 float64\n",
            "diabetes_prevalence                   float64\n",
            "female_smokers                        float64\n",
            "male_smokers                          float64\n",
            "handwashing_facilities                float64\n",
            "hospital_beds_per_thousand            float64\n",
            "life_expectancy                       float64\n",
            "human_development_index               float64\n",
            "dtype: object\n"
          ]
        }
      ]
    },
    {
      "cell_type": "code",
      "source": [
        "# C. Info and describe\n",
        "print(\"Info:\\n\", df.info())\n",
        "print(\"Describe:\\n\", df.describe())"
      ],
      "metadata": {
        "colab": {
          "base_uri": "https://localhost:8080/"
        },
        "id": "Ojb5wOPoC9gR",
        "outputId": "f8978d88-4e5c-4f70-c502-cbaf90b2ed80"
      },
      "execution_count": null,
      "outputs": [
        {
          "output_type": "stream",
          "name": "stdout",
          "text": [
            "<class 'pandas.core.frame.DataFrame'>\n",
            "RangeIndex: 57394 entries, 0 to 57393\n",
            "Data columns (total 49 columns):\n",
            " #   Column                              Non-Null Count  Dtype  \n",
            "---  ------                              --------------  -----  \n",
            " 0   iso_code                            57071 non-null  object \n",
            " 1   continent                           56748 non-null  object \n",
            " 2   location                            57394 non-null  object \n",
            " 3   date                                57394 non-null  object \n",
            " 4   total_cases                         53758 non-null  float64\n",
            " 5   new_cases                           56465 non-null  float64\n",
            " 6   new_cases_smoothed                  55652 non-null  float64\n",
            " 7   total_deaths                        44368 non-null  float64\n",
            " 8   new_deaths                          56465 non-null  float64\n",
            " 9   new_deaths_smoothed                 55652 non-null  float64\n",
            " 10  total_cases_per_million             53471 non-null  float64\n",
            " 11  new_cases_per_million               56401 non-null  float64\n",
            " 12  new_cases_smoothed_per_million      55587 non-null  float64\n",
            " 13  total_deaths_per_million            44096 non-null  float64\n",
            " 14  new_deaths_per_million              56401 non-null  float64\n",
            " 15  new_deaths_smoothed_per_million     55587 non-null  float64\n",
            " 16  reproduction_rate                   37696 non-null  float64\n",
            " 17  icu_patients                        4490 non-null   float64\n",
            " 18  icu_patients_per_million            4490 non-null   float64\n",
            " 19  hosp_patients                       5005 non-null   float64\n",
            " 20  hosp_patients_per_million           5005 non-null   float64\n",
            " 21  weekly_icu_admissions               357 non-null    float64\n",
            " 22  weekly_icu_admissions_per_million   357 non-null    float64\n",
            " 23  weekly_hosp_admissions              645 non-null    float64\n",
            " 24  weekly_hosp_admissions_per_million  645 non-null    float64\n",
            " 25  total_tests                         22017 non-null  float64\n",
            " 26  new_tests                           21787 non-null  float64\n",
            " 27  total_tests_per_thousand            22017 non-null  float64\n",
            " 28  new_tests_per_thousand              21787 non-null  float64\n",
            " 29  new_tests_smoothed                  24612 non-null  float64\n",
            " 30  new_tests_smoothed_per_thousand     24612 non-null  float64\n",
            " 31  tests_per_case                      22802 non-null  float64\n",
            " 32  positive_rate                       23211 non-null  float64\n",
            " 33  stringency_index                    47847 non-null  float64\n",
            " 34  population                          57071 non-null  float64\n",
            " 35  population_density                  54371 non-null  float64\n",
            " 36  median_age                          51034 non-null  float64\n",
            " 37  aged_65_older                       50265 non-null  float64\n",
            " 38  aged_70_older                       50768 non-null  float64\n",
            " 39  gdp_per_capita                      50367 non-null  float64\n",
            " 40  extreme_poverty                     33571 non-null  float64\n",
            " 41  cardiovasc_death_rate               51013 non-null  float64\n",
            " 42  diabetes_prevalence                 52881 non-null  float64\n",
            " 43  female_smokers                      39669 non-null  float64\n",
            " 44  male_smokers                        39156 non-null  float64\n",
            " 45  handwashing_facilities              24176 non-null  float64\n",
            " 46  hospital_beds_per_thousand          45936 non-null  float64\n",
            " 47  life_expectancy                     56336 non-null  float64\n",
            " 48  human_development_index             49247 non-null  float64\n",
            "dtypes: float64(45), object(4)\n",
            "memory usage: 21.5+ MB\n",
            "Info:\n",
            " None\n",
            "Describe:\n",
            "         total_cases      new_cases  new_cases_smoothed  total_deaths  \\\n",
            "count  5.375800e+04   56465.000000        55652.000000  4.436800e+04   \n",
            "mean   1.677974e+05    1953.576941         1920.431953  6.858639e+03   \n",
            "std    1.693038e+06   18269.650340        17777.391785  5.578081e+04   \n",
            "min    1.000000e+00   -8261.000000         -552.000000  1.000000e+00   \n",
            "25%    1.800000e+02       0.000000            0.857000  1.300000e+01   \n",
            "50%    2.070000e+03      14.000000           19.429000  8.400000e+01   \n",
            "75%    2.235675e+04     235.000000          245.286000  7.270000e+02   \n",
            "max    5.515465e+07  646281.000000       584981.857000  1.328537e+06   \n",
            "\n",
            "         new_deaths  new_deaths_smoothed  total_cases_per_million  \\\n",
            "count  56465.000000         55652.000000             53471.000000   \n",
            "mean      47.054317            46.835439              3139.099982   \n",
            "std      390.853776           378.272794              6183.455260   \n",
            "min    -1918.000000          -232.143000                 0.001000   \n",
            "25%        0.000000             0.000000                90.033000   \n",
            "50%        0.000000             0.286000               593.663000   \n",
            "75%        4.000000             4.000000              3487.050000   \n",
            "max    10600.000000          9027.714000             76541.772000   \n",
            "\n",
            "       new_cases_per_million  new_cases_smoothed_per_million  \\\n",
            "count           56401.000000                    55587.000000   \n",
            "mean               39.344804                       38.403211   \n",
            "std               133.985155                      101.649441   \n",
            "min             -2212.545000                     -269.978000   \n",
            "25%                 0.000000                        0.260000   \n",
            "50%                 2.194000                        3.863000   \n",
            "75%                25.941000                       29.678500   \n",
            "max              8652.658000                     2472.188000   \n",
            "\n",
            "       total_deaths_per_million  ...  gdp_per_capita  extreme_poverty  \\\n",
            "count              44096.000000  ...    50367.000000     33571.000000   \n",
            "mean                  95.335293  ...    20620.172071        12.435453   \n",
            "std                  180.721699  ...    20310.999832        19.427924   \n",
            "min                    0.000000  ...      661.240000         0.100000   \n",
            "25%                    3.977750  ...     5321.444000         0.500000   \n",
            "50%                   20.383000  ...    13913.839000         2.000000   \n",
            "75%                   90.571250  ...    31400.840000        18.100000   \n",
            "max                 1248.014000  ...   116935.600000        77.600000   \n",
            "\n",
            "       cardiovasc_death_rate  diabetes_prevalence  female_smokers  \\\n",
            "count           51013.000000         52881.000000    39669.000000   \n",
            "mean              252.646642             8.070269       10.741569   \n",
            "std               117.522344             4.189605       10.470743   \n",
            "min                79.370000             0.990000        0.100000   \n",
            "25%               156.139000             5.310000        1.900000   \n",
            "50%               238.339000             7.110000        6.400000   \n",
            "75%               318.991000            10.390000       19.600000   \n",
            "max               724.417000            30.530000       44.000000   \n",
            "\n",
            "       male_smokers  handwashing_facilities  hospital_beds_per_thousand  \\\n",
            "count  39156.000000            24176.000000                45936.000000   \n",
            "mean      32.642686               52.089636                    3.089724   \n",
            "std       13.453566               31.645306                    2.513193   \n",
            "min        7.700000                1.188000                    0.100000   \n",
            "25%       21.400000               21.222000                    1.300000   \n",
            "50%       31.400000               52.232000                    2.500000   \n",
            "75%       40.900000               83.741000                    4.200000   \n",
            "max       78.100000               98.999000                   13.800000   \n",
            "\n",
            "       life_expectancy  human_development_index  \n",
            "count     56336.000000             49247.000000  \n",
            "mean         73.937780                 0.722223  \n",
            "std           7.397016                 0.153261  \n",
            "min          53.280000                 0.354000  \n",
            "25%          69.870000                 0.601000  \n",
            "50%          75.345000                 0.752000  \n",
            "75%          79.380000                 0.847000  \n",
            "max          86.750000                 0.953000  \n",
            "\n",
            "[8 rows x 45 columns]\n"
          ]
        }
      ]
    },
    {
      "cell_type": "markdown",
      "source": [
        "## 3). Low Level Data Understanding :"
      ],
      "metadata": {
        "id": "OPnZsv3wDDFJ"
      }
    },
    {
      "cell_type": "code",
      "source": [
        "# A. Count of unique values in 'location' column\n",
        "print(\"Unique values in 'location':\", df['location'].nunique())"
      ],
      "metadata": {
        "colab": {
          "base_uri": "https://localhost:8080/"
        },
        "id": "xyIi48jFDMma",
        "outputId": "ed9346ac-ef09-41d9-f837-7aa8480fcf19"
      },
      "execution_count": null,
      "outputs": [
        {
          "output_type": "stream",
          "name": "stdout",
          "text": [
            "Unique values in 'location': 216\n"
          ]
        }
      ]
    },
    {
      "cell_type": "code",
      "source": [
        "# B. Continent with maximum frequency\n",
        "print(\"Continent with maximum frequency:\\n\", df['continent'].value_counts().idxmax())"
      ],
      "metadata": {
        "colab": {
          "base_uri": "https://localhost:8080/"
        },
        "id": "LmsMamImDTJD",
        "outputId": "4100b445-7146-448b-db74-2e28f413904b"
      },
      "execution_count": null,
      "outputs": [
        {
          "output_type": "stream",
          "name": "stdout",
          "text": [
            "Continent with maximum frequency:\n",
            " Europe\n"
          ]
        }
      ]
    },
    {
      "cell_type": "code",
      "source": [
        "# C. Maximum and mean value in 'total_cases'\n",
        "print(\"Max 'total_cases':\", df['total_cases'].max())\n",
        "print(\"Mean 'total_cases':\", df['total_cases'].mean())"
      ],
      "metadata": {
        "colab": {
          "base_uri": "https://localhost:8080/"
        },
        "id": "pvaO9zUvDXeL",
        "outputId": "548142cf-c017-4026-828a-9183f70a3505"
      },
      "execution_count": null,
      "outputs": [
        {
          "output_type": "stream",
          "name": "stdout",
          "text": [
            "Max 'total_cases': 55154651.0\n",
            "Mean 'total_cases': 167797.3688753302\n"
          ]
        }
      ]
    },
    {
      "cell_type": "code",
      "source": [
        "# D. 25%, 50%, 75% quartile values in 'total_deaths'\n",
        "print(\"Quartiles for 'total_deaths':\\n\", df['total_deaths'].quantile([0.25, 0.50, 0.75]))"
      ],
      "metadata": {
        "colab": {
          "base_uri": "https://localhost:8080/"
        },
        "id": "FkB3xTHuDavM",
        "outputId": "487140d1-28b0-49ec-a691-d0061318228f"
      },
      "execution_count": null,
      "outputs": [
        {
          "output_type": "stream",
          "name": "stdout",
          "text": [
            "Quartiles for 'total_deaths':\n",
            " 0.25     13.0\n",
            "0.50     84.0\n",
            "0.75    727.0\n",
            "Name: total_deaths, dtype: float64\n"
          ]
        }
      ]
    },
    {
      "cell_type": "code",
      "source": [
        "# E. Continent with maximum 'human_development_index'\n",
        "print(\"Continent with max HDI:\", df.groupby('continent')['human_development_index'].max().idxmax())"
      ],
      "metadata": {
        "colab": {
          "base_uri": "https://localhost:8080/"
        },
        "id": "GaSTmvy5DdGN",
        "outputId": "fd8a20cf-9c67-43e1-b8f6-71ac4f2eb06b"
      },
      "execution_count": null,
      "outputs": [
        {
          "output_type": "stream",
          "name": "stdout",
          "text": [
            "Continent with max HDI: Europe\n"
          ]
        }
      ]
    },
    {
      "cell_type": "code",
      "source": [
        "# F. Continent with minimum 'gdp_per_capita'\n",
        "print(\"Continent with min GDP per capita:\", df.groupby('continent')['gdp_per_capita'].min().idxmin())"
      ],
      "metadata": {
        "colab": {
          "base_uri": "https://localhost:8080/"
        },
        "id": "BSjImpKXDfqM",
        "outputId": "d5edb941-2de0-45ca-82fa-e739b9179df4"
      },
      "execution_count": null,
      "outputs": [
        {
          "output_type": "stream",
          "name": "stdout",
          "text": [
            "Continent with min GDP per capita: Africa\n"
          ]
        }
      ]
    },
    {
      "cell_type": "markdown",
      "source": [
        "4. Filter the dataframe with only this columns"
      ],
      "metadata": {
        "id": "jus38PA4DrxO"
      }
    },
    {
      "cell_type": "code",
      "source": [
        "columns_to_keep = ['continent', 'location', 'date', 'total_cases', 'total_deaths', 'gdp_per_capita', 'human_development_index']\n",
        "df = df[columns_to_keep]"
      ],
      "metadata": {
        "id": "R3UGJYzNDtll"
      },
      "execution_count": null,
      "outputs": []
    },
    {
      "cell_type": "markdown",
      "source": [
        "## 5). Data Cleaning"
      ],
      "metadata": {
        "id": "7Yd4g5HeFRmf"
      }
    },
    {
      "cell_type": "code",
      "source": [
        "# A. Remove duplicates\n",
        "df.drop_duplicates(inplace=True)"
      ],
      "metadata": {
        "id": "EFMyWi_XFVdX"
      },
      "execution_count": null,
      "outputs": []
    },
    {
      "cell_type": "code",
      "source": [
        "# B. Find missing values\n",
        "print(\"Missing values:\\n\", df.isnull().sum())"
      ],
      "metadata": {
        "colab": {
          "base_uri": "https://localhost:8080/"
        },
        "id": "dAMe8sDYFddo",
        "outputId": "f82855b8-3e1f-4247-c023-7d79bd019cf3"
      },
      "execution_count": null,
      "outputs": [
        {
          "output_type": "stream",
          "name": "stdout",
          "text": [
            "Missing values:\n",
            " continent                  0\n",
            "location                   0\n",
            "date                       0\n",
            "total_cases                0\n",
            "total_deaths               0\n",
            "gdp_per_capita             0\n",
            "human_development_index    0\n",
            "dtype: int64\n"
          ]
        }
      ]
    },
    {
      "cell_type": "code",
      "source": [
        "# C. Remove rows where 'continent' is missing\n",
        "df.dropna(subset=['continent'], inplace=True)"
      ],
      "metadata": {
        "id": "X23p5rLZFhE5"
      },
      "execution_count": null,
      "outputs": []
    },
    {
      "cell_type": "code",
      "source": [
        "# D. Fill missing values with 0\n",
        "df.fillna(0, inplace=True)\n",
        "df.isnull().sum()"
      ],
      "metadata": {
        "colab": {
          "base_uri": "https://localhost:8080/",
          "height": 303
        },
        "id": "lJzFgi4JFkrR",
        "outputId": "58e1df6f-21b5-43a0-a752-a4e86bd16762"
      },
      "execution_count": null,
      "outputs": [
        {
          "output_type": "execute_result",
          "data": {
            "text/plain": [
              "continent                  0\n",
              "location                   0\n",
              "date                       0\n",
              "total_cases                0\n",
              "total_deaths               0\n",
              "gdp_per_capita             0\n",
              "human_development_index    0\n",
              "dtype: int64"
            ],
            "text/html": [
              "<div>\n",
              "<style scoped>\n",
              "    .dataframe tbody tr th:only-of-type {\n",
              "        vertical-align: middle;\n",
              "    }\n",
              "\n",
              "    .dataframe tbody tr th {\n",
              "        vertical-align: top;\n",
              "    }\n",
              "\n",
              "    .dataframe thead th {\n",
              "        text-align: right;\n",
              "    }\n",
              "</style>\n",
              "<table border=\"1\" class=\"dataframe\">\n",
              "  <thead>\n",
              "    <tr style=\"text-align: right;\">\n",
              "      <th></th>\n",
              "      <th>0</th>\n",
              "    </tr>\n",
              "  </thead>\n",
              "  <tbody>\n",
              "    <tr>\n",
              "      <th>continent</th>\n",
              "      <td>0</td>\n",
              "    </tr>\n",
              "    <tr>\n",
              "      <th>location</th>\n",
              "      <td>0</td>\n",
              "    </tr>\n",
              "    <tr>\n",
              "      <th>date</th>\n",
              "      <td>0</td>\n",
              "    </tr>\n",
              "    <tr>\n",
              "      <th>total_cases</th>\n",
              "      <td>0</td>\n",
              "    </tr>\n",
              "    <tr>\n",
              "      <th>total_deaths</th>\n",
              "      <td>0</td>\n",
              "    </tr>\n",
              "    <tr>\n",
              "      <th>gdp_per_capita</th>\n",
              "      <td>0</td>\n",
              "    </tr>\n",
              "    <tr>\n",
              "      <th>human_development_index</th>\n",
              "      <td>0</td>\n",
              "    </tr>\n",
              "  </tbody>\n",
              "</table>\n",
              "</div><br><label><b>dtype:</b> int64</label>"
            ]
          },
          "metadata": {},
          "execution_count": 52
        }
      ]
    },
    {
      "cell_type": "markdown",
      "source": [
        "## 6). DateTime Format"
      ],
      "metadata": {
        "id": "RZ2ZFGV9Gmu_"
      }
    },
    {
      "cell_type": "code",
      "source": [
        "# A. Convert 'date' column to datetime\n",
        "# Check the 'date' column\n",
        "print(\"Original 'date' column:\\n\", df['date'].head())\n",
        "\n",
        "# Convert 'date' column to datetime\n",
        "df['date'] = pd.to_datetime(df['date'], errors='coerce')"
      ],
      "metadata": {
        "colab": {
          "base_uri": "https://localhost:8080/"
        },
        "id": "tbRwojzGG_hq",
        "outputId": "6c5be74d-3783-41c4-dd1a-679320657447"
      },
      "execution_count": null,
      "outputs": [
        {
          "output_type": "stream",
          "name": "stdout",
          "text": [
            "Original 'date' column:\n",
            " 0   2019-12-31\n",
            "1   2020-01-01\n",
            "2   2020-02-01\n",
            "3   2020-03-01\n",
            "4   2020-04-01\n",
            "Name: date, dtype: datetime64[ns]\n"
          ]
        }
      ]
    },
    {
      "cell_type": "code",
      "source": [
        "# B. Extract month and create new column\n",
        "# Extract month and create new column\n",
        "df['month'] = df['date'].dt.month\n",
        "\n",
        "# Display the updated DataFrame\n",
        "print(\"Updated DataFrame with 'month' column:\\n\", df[['date', 'month']].head())"
      ],
      "metadata": {
        "colab": {
          "base_uri": "https://localhost:8080/"
        },
        "id": "xyZfgisNIEaI",
        "outputId": "14f3631d-22b2-4772-c3e9-a1b4f70b0938"
      },
      "execution_count": null,
      "outputs": [
        {
          "output_type": "stream",
          "name": "stdout",
          "text": [
            "Updated DataFrame with 'month' column:\n",
            "         date  month\n",
            "0 2019-12-31     12\n",
            "1 2020-01-01      1\n",
            "2 2020-02-01      2\n",
            "3 2020-03-01      3\n",
            "4 2020-04-01      4\n"
          ]
        }
      ]
    },
    {
      "cell_type": "markdown",
      "source": [
        "## 8). Data Aggregation"
      ],
      "metadata": {
        "id": "fbQ85XfOJB6n"
      }
    },
    {
      "cell_type": "code",
      "source": [
        "# A. Group by 'continent' and find max values\n",
        "df.groupby('continent').max().reset_index()"
      ],
      "metadata": {
        "colab": {
          "base_uri": "https://localhost:8080/",
          "height": 237
        },
        "id": "OOiGv5vUJIX3",
        "outputId": "371ae92e-518f-4bdf-bff9-db1e19cd90b9"
      },
      "execution_count": null,
      "outputs": [
        {
          "output_type": "execute_result",
          "data": {
            "text/plain": [
              "       continent                      location       date  total_cases  \\\n",
              "0         Africa                      Zimbabwe 2020-12-11     752269.0   \n",
              "1           Asia                         Yemen 2020-12-11    8874290.0   \n",
              "2         Europe                       Vatican 2020-12-11    1991233.0   \n",
              "3  North America  United States Virgin Islands 2020-12-11   11205486.0   \n",
              "4        Oceania             Wallis and Futuna 2020-12-11      27750.0   \n",
              "5  South America                     Venezuela 2020-12-11    5876464.0   \n",
              "\n",
              "   total_deaths  gdp_per_capita  human_development_index  month  \n",
              "0       20314.0       26382.287                    0.797     12  \n",
              "1      130519.0      116935.600                    0.933     12  \n",
              "2       52147.0       94277.965                    0.953     12  \n",
              "3      247220.0       54225.446                    0.926     12  \n",
              "4         907.0       44648.710                    0.939     12  \n",
              "5      166014.0       22767.037                    0.843     12  "
            ],
            "text/html": [
              "\n",
              "  <div id=\"df-3bb6e0ae-9f91-457a-9f7d-721a453669d5\" class=\"colab-df-container\">\n",
              "    <div>\n",
              "<style scoped>\n",
              "    .dataframe tbody tr th:only-of-type {\n",
              "        vertical-align: middle;\n",
              "    }\n",
              "\n",
              "    .dataframe tbody tr th {\n",
              "        vertical-align: top;\n",
              "    }\n",
              "\n",
              "    .dataframe thead th {\n",
              "        text-align: right;\n",
              "    }\n",
              "</style>\n",
              "<table border=\"1\" class=\"dataframe\">\n",
              "  <thead>\n",
              "    <tr style=\"text-align: right;\">\n",
              "      <th></th>\n",
              "      <th>continent</th>\n",
              "      <th>location</th>\n",
              "      <th>date</th>\n",
              "      <th>total_cases</th>\n",
              "      <th>total_deaths</th>\n",
              "      <th>gdp_per_capita</th>\n",
              "      <th>human_development_index</th>\n",
              "      <th>month</th>\n",
              "    </tr>\n",
              "  </thead>\n",
              "  <tbody>\n",
              "    <tr>\n",
              "      <th>0</th>\n",
              "      <td>Africa</td>\n",
              "      <td>Zimbabwe</td>\n",
              "      <td>2020-12-11</td>\n",
              "      <td>752269.0</td>\n",
              "      <td>20314.0</td>\n",
              "      <td>26382.287</td>\n",
              "      <td>0.797</td>\n",
              "      <td>12</td>\n",
              "    </tr>\n",
              "    <tr>\n",
              "      <th>1</th>\n",
              "      <td>Asia</td>\n",
              "      <td>Yemen</td>\n",
              "      <td>2020-12-11</td>\n",
              "      <td>8874290.0</td>\n",
              "      <td>130519.0</td>\n",
              "      <td>116935.600</td>\n",
              "      <td>0.933</td>\n",
              "      <td>12</td>\n",
              "    </tr>\n",
              "    <tr>\n",
              "      <th>2</th>\n",
              "      <td>Europe</td>\n",
              "      <td>Vatican</td>\n",
              "      <td>2020-12-11</td>\n",
              "      <td>1991233.0</td>\n",
              "      <td>52147.0</td>\n",
              "      <td>94277.965</td>\n",
              "      <td>0.953</td>\n",
              "      <td>12</td>\n",
              "    </tr>\n",
              "    <tr>\n",
              "      <th>3</th>\n",
              "      <td>North America</td>\n",
              "      <td>United States Virgin Islands</td>\n",
              "      <td>2020-12-11</td>\n",
              "      <td>11205486.0</td>\n",
              "      <td>247220.0</td>\n",
              "      <td>54225.446</td>\n",
              "      <td>0.926</td>\n",
              "      <td>12</td>\n",
              "    </tr>\n",
              "    <tr>\n",
              "      <th>4</th>\n",
              "      <td>Oceania</td>\n",
              "      <td>Wallis and Futuna</td>\n",
              "      <td>2020-12-11</td>\n",
              "      <td>27750.0</td>\n",
              "      <td>907.0</td>\n",
              "      <td>44648.710</td>\n",
              "      <td>0.939</td>\n",
              "      <td>12</td>\n",
              "    </tr>\n",
              "    <tr>\n",
              "      <th>5</th>\n",
              "      <td>South America</td>\n",
              "      <td>Venezuela</td>\n",
              "      <td>2020-12-11</td>\n",
              "      <td>5876464.0</td>\n",
              "      <td>166014.0</td>\n",
              "      <td>22767.037</td>\n",
              "      <td>0.843</td>\n",
              "      <td>12</td>\n",
              "    </tr>\n",
              "  </tbody>\n",
              "</table>\n",
              "</div>\n",
              "    <div class=\"colab-df-buttons\">\n",
              "\n",
              "  <div class=\"colab-df-container\">\n",
              "    <button class=\"colab-df-convert\" onclick=\"convertToInteractive('df-3bb6e0ae-9f91-457a-9f7d-721a453669d5')\"\n",
              "            title=\"Convert this dataframe to an interactive table.\"\n",
              "            style=\"display:none;\">\n",
              "\n",
              "  <svg xmlns=\"http://www.w3.org/2000/svg\" height=\"24px\" viewBox=\"0 -960 960 960\">\n",
              "    <path d=\"M120-120v-720h720v720H120Zm60-500h600v-160H180v160Zm220 220h160v-160H400v160Zm0 220h160v-160H400v160ZM180-400h160v-160H180v160Zm440 0h160v-160H620v160ZM180-180h160v-160H180v160Zm440 0h160v-160H620v160Z\"/>\n",
              "  </svg>\n",
              "    </button>\n",
              "\n",
              "  <style>\n",
              "    .colab-df-container {\n",
              "      display:flex;\n",
              "      gap: 12px;\n",
              "    }\n",
              "\n",
              "    .colab-df-convert {\n",
              "      background-color: #E8F0FE;\n",
              "      border: none;\n",
              "      border-radius: 50%;\n",
              "      cursor: pointer;\n",
              "      display: none;\n",
              "      fill: #1967D2;\n",
              "      height: 32px;\n",
              "      padding: 0 0 0 0;\n",
              "      width: 32px;\n",
              "    }\n",
              "\n",
              "    .colab-df-convert:hover {\n",
              "      background-color: #E2EBFA;\n",
              "      box-shadow: 0px 1px 2px rgba(60, 64, 67, 0.3), 0px 1px 3px 1px rgba(60, 64, 67, 0.15);\n",
              "      fill: #174EA6;\n",
              "    }\n",
              "\n",
              "    .colab-df-buttons div {\n",
              "      margin-bottom: 4px;\n",
              "    }\n",
              "\n",
              "    [theme=dark] .colab-df-convert {\n",
              "      background-color: #3B4455;\n",
              "      fill: #D2E3FC;\n",
              "    }\n",
              "\n",
              "    [theme=dark] .colab-df-convert:hover {\n",
              "      background-color: #434B5C;\n",
              "      box-shadow: 0px 1px 3px 1px rgba(0, 0, 0, 0.15);\n",
              "      filter: drop-shadow(0px 1px 2px rgba(0, 0, 0, 0.3));\n",
              "      fill: #FFFFFF;\n",
              "    }\n",
              "  </style>\n",
              "\n",
              "    <script>\n",
              "      const buttonEl =\n",
              "        document.querySelector('#df-3bb6e0ae-9f91-457a-9f7d-721a453669d5 button.colab-df-convert');\n",
              "      buttonEl.style.display =\n",
              "        google.colab.kernel.accessAllowed ? 'block' : 'none';\n",
              "\n",
              "      async function convertToInteractive(key) {\n",
              "        const element = document.querySelector('#df-3bb6e0ae-9f91-457a-9f7d-721a453669d5');\n",
              "        const dataTable =\n",
              "          await google.colab.kernel.invokeFunction('convertToInteractive',\n",
              "                                                    [key], {});\n",
              "        if (!dataTable) return;\n",
              "\n",
              "        const docLinkHtml = 'Like what you see? Visit the ' +\n",
              "          '<a target=\"_blank\" href=https://colab.research.google.com/notebooks/data_table.ipynb>data table notebook</a>'\n",
              "          + ' to learn more about interactive tables.';\n",
              "        element.innerHTML = '';\n",
              "        dataTable['output_type'] = 'display_data';\n",
              "        await google.colab.output.renderOutput(dataTable, element);\n",
              "        const docLink = document.createElement('div');\n",
              "        docLink.innerHTML = docLinkHtml;\n",
              "        element.appendChild(docLink);\n",
              "      }\n",
              "    </script>\n",
              "  </div>\n",
              "\n",
              "\n",
              "<div id=\"df-ac74f18b-5d6a-47d6-94b2-109fa5d7157f\">\n",
              "  <button class=\"colab-df-quickchart\" onclick=\"quickchart('df-ac74f18b-5d6a-47d6-94b2-109fa5d7157f')\"\n",
              "            title=\"Suggest charts\"\n",
              "            style=\"display:none;\">\n",
              "\n",
              "<svg xmlns=\"http://www.w3.org/2000/svg\" height=\"24px\"viewBox=\"0 0 24 24\"\n",
              "     width=\"24px\">\n",
              "    <g>\n",
              "        <path d=\"M19 3H5c-1.1 0-2 .9-2 2v14c0 1.1.9 2 2 2h14c1.1 0 2-.9 2-2V5c0-1.1-.9-2-2-2zM9 17H7v-7h2v7zm4 0h-2V7h2v10zm4 0h-2v-4h2v4z\"/>\n",
              "    </g>\n",
              "</svg>\n",
              "  </button>\n",
              "\n",
              "<style>\n",
              "  .colab-df-quickchart {\n",
              "      --bg-color: #E8F0FE;\n",
              "      --fill-color: #1967D2;\n",
              "      --hover-bg-color: #E2EBFA;\n",
              "      --hover-fill-color: #174EA6;\n",
              "      --disabled-fill-color: #AAA;\n",
              "      --disabled-bg-color: #DDD;\n",
              "  }\n",
              "\n",
              "  [theme=dark] .colab-df-quickchart {\n",
              "      --bg-color: #3B4455;\n",
              "      --fill-color: #D2E3FC;\n",
              "      --hover-bg-color: #434B5C;\n",
              "      --hover-fill-color: #FFFFFF;\n",
              "      --disabled-bg-color: #3B4455;\n",
              "      --disabled-fill-color: #666;\n",
              "  }\n",
              "\n",
              "  .colab-df-quickchart {\n",
              "    background-color: var(--bg-color);\n",
              "    border: none;\n",
              "    border-radius: 50%;\n",
              "    cursor: pointer;\n",
              "    display: none;\n",
              "    fill: var(--fill-color);\n",
              "    height: 32px;\n",
              "    padding: 0;\n",
              "    width: 32px;\n",
              "  }\n",
              "\n",
              "  .colab-df-quickchart:hover {\n",
              "    background-color: var(--hover-bg-color);\n",
              "    box-shadow: 0 1px 2px rgba(60, 64, 67, 0.3), 0 1px 3px 1px rgba(60, 64, 67, 0.15);\n",
              "    fill: var(--button-hover-fill-color);\n",
              "  }\n",
              "\n",
              "  .colab-df-quickchart-complete:disabled,\n",
              "  .colab-df-quickchart-complete:disabled:hover {\n",
              "    background-color: var(--disabled-bg-color);\n",
              "    fill: var(--disabled-fill-color);\n",
              "    box-shadow: none;\n",
              "  }\n",
              "\n",
              "  .colab-df-spinner {\n",
              "    border: 2px solid var(--fill-color);\n",
              "    border-color: transparent;\n",
              "    border-bottom-color: var(--fill-color);\n",
              "    animation:\n",
              "      spin 1s steps(1) infinite;\n",
              "  }\n",
              "\n",
              "  @keyframes spin {\n",
              "    0% {\n",
              "      border-color: transparent;\n",
              "      border-bottom-color: var(--fill-color);\n",
              "      border-left-color: var(--fill-color);\n",
              "    }\n",
              "    20% {\n",
              "      border-color: transparent;\n",
              "      border-left-color: var(--fill-color);\n",
              "      border-top-color: var(--fill-color);\n",
              "    }\n",
              "    30% {\n",
              "      border-color: transparent;\n",
              "      border-left-color: var(--fill-color);\n",
              "      border-top-color: var(--fill-color);\n",
              "      border-right-color: var(--fill-color);\n",
              "    }\n",
              "    40% {\n",
              "      border-color: transparent;\n",
              "      border-right-color: var(--fill-color);\n",
              "      border-top-color: var(--fill-color);\n",
              "    }\n",
              "    60% {\n",
              "      border-color: transparent;\n",
              "      border-right-color: var(--fill-color);\n",
              "    }\n",
              "    80% {\n",
              "      border-color: transparent;\n",
              "      border-right-color: var(--fill-color);\n",
              "      border-bottom-color: var(--fill-color);\n",
              "    }\n",
              "    90% {\n",
              "      border-color: transparent;\n",
              "      border-bottom-color: var(--fill-color);\n",
              "    }\n",
              "  }\n",
              "</style>\n",
              "\n",
              "  <script>\n",
              "    async function quickchart(key) {\n",
              "      const quickchartButtonEl =\n",
              "        document.querySelector('#' + key + ' button');\n",
              "      quickchartButtonEl.disabled = true;  // To prevent multiple clicks.\n",
              "      quickchartButtonEl.classList.add('colab-df-spinner');\n",
              "      try {\n",
              "        const charts = await google.colab.kernel.invokeFunction(\n",
              "            'suggestCharts', [key], {});\n",
              "      } catch (error) {\n",
              "        console.error('Error during call to suggestCharts:', error);\n",
              "      }\n",
              "      quickchartButtonEl.classList.remove('colab-df-spinner');\n",
              "      quickchartButtonEl.classList.add('colab-df-quickchart-complete');\n",
              "    }\n",
              "    (() => {\n",
              "      let quickchartButtonEl =\n",
              "        document.querySelector('#df-ac74f18b-5d6a-47d6-94b2-109fa5d7157f button');\n",
              "      quickchartButtonEl.style.display =\n",
              "        google.colab.kernel.accessAllowed ? 'block' : 'none';\n",
              "    })();\n",
              "  </script>\n",
              "</div>\n",
              "\n",
              "    </div>\n",
              "  </div>\n"
            ],
            "application/vnd.google.colaboratory.intrinsic+json": {
              "type": "dataframe",
              "summary": "{\n  \"name\": \"df\",\n  \"rows\": 6,\n  \"fields\": [\n    {\n      \"column\": \"continent\",\n      \"properties\": {\n        \"dtype\": \"string\",\n        \"num_unique_values\": 6,\n        \"samples\": [\n          \"Africa\",\n          \"Asia\",\n          \"South America\"\n        ],\n        \"semantic_type\": \"\",\n        \"description\": \"\"\n      }\n    },\n    {\n      \"column\": \"location\",\n      \"properties\": {\n        \"dtype\": \"string\",\n        \"num_unique_values\": 6,\n        \"samples\": [\n          \"Zimbabwe\",\n          \"Yemen\",\n          \"Venezuela\"\n        ],\n        \"semantic_type\": \"\",\n        \"description\": \"\"\n      }\n    },\n    {\n      \"column\": \"date\",\n      \"properties\": {\n        \"dtype\": \"date\",\n        \"min\": \"2020-12-11 00:00:00\",\n        \"max\": \"2020-12-11 00:00:00\",\n        \"num_unique_values\": 1,\n        \"samples\": [\n          \"2020-12-11 00:00:00\"\n        ],\n        \"semantic_type\": \"\",\n        \"description\": \"\"\n      }\n    },\n    {\n      \"column\": \"total_cases\",\n      \"properties\": {\n        \"dtype\": \"number\",\n        \"std\": 4600775.082086307,\n        \"min\": 27750.0,\n        \"max\": 11205486.0,\n        \"num_unique_values\": 6,\n        \"samples\": [\n          752269.0\n        ],\n        \"semantic_type\": \"\",\n        \"description\": \"\"\n      }\n    },\n    {\n      \"column\": \"total_deaths\",\n      \"properties\": {\n        \"dtype\": \"number\",\n        \"std\": 95261.0329961837,\n        \"min\": 907.0,\n        \"max\": 247220.0,\n        \"num_unique_values\": 6,\n        \"samples\": [\n          20314.0\n        ],\n        \"semantic_type\": \"\",\n        \"description\": \"\"\n      }\n    },\n    {\n      \"column\": \"gdp_per_capita\",\n      \"properties\": {\n        \"dtype\": \"number\",\n        \"std\": 37952.59188738491,\n        \"min\": 22767.037,\n        \"max\": 116935.6,\n        \"num_unique_values\": 6,\n        \"samples\": [\n          26382.287\n        ],\n        \"semantic_type\": \"\",\n        \"description\": \"\"\n      }\n    },\n    {\n      \"column\": \"human_development_index\",\n      \"properties\": {\n        \"dtype\": \"number\",\n        \"std\": 0.0631498218524803,\n        \"min\": 0.797,\n        \"max\": 0.953,\n        \"num_unique_values\": 6,\n        \"samples\": [\n          0.797\n        ],\n        \"semantic_type\": \"\",\n        \"description\": \"\"\n      }\n    },\n    {\n      \"column\": \"month\",\n      \"properties\": {\n        \"dtype\": \"int32\",\n        \"num_unique_values\": 1,\n        \"samples\": [\n          12\n        ],\n        \"semantic_type\": \"\",\n        \"description\": \"\"\n      }\n    }\n  ]\n}"
            }
          },
          "metadata": {},
          "execution_count": 72
        }
      ]
    },
    {
      "cell_type": "code",
      "source": [
        "# B. Save the result in a new dataframe\n",
        "df_groupby = df.groupby('continent').max().reset_index()\n",
        "df_groupby"
      ],
      "metadata": {
        "colab": {
          "base_uri": "https://localhost:8080/",
          "height": 237
        },
        "id": "t8tXMTC7JZIR",
        "outputId": "53f343c3-cdaa-40aa-c528-f80036229791"
      },
      "execution_count": null,
      "outputs": [
        {
          "output_type": "execute_result",
          "data": {
            "text/plain": [
              "       continent                      location       date  total_cases  \\\n",
              "0         Africa                      Zimbabwe 2020-12-11     752269.0   \n",
              "1           Asia                         Yemen 2020-12-11    8874290.0   \n",
              "2         Europe                       Vatican 2020-12-11    1991233.0   \n",
              "3  North America  United States Virgin Islands 2020-12-11   11205486.0   \n",
              "4        Oceania             Wallis and Futuna 2020-12-11      27750.0   \n",
              "5  South America                     Venezuela 2020-12-11    5876464.0   \n",
              "\n",
              "   total_deaths  gdp_per_capita  human_development_index  month  \n",
              "0       20314.0       26382.287                    0.797     12  \n",
              "1      130519.0      116935.600                    0.933     12  \n",
              "2       52147.0       94277.965                    0.953     12  \n",
              "3      247220.0       54225.446                    0.926     12  \n",
              "4         907.0       44648.710                    0.939     12  \n",
              "5      166014.0       22767.037                    0.843     12  "
            ],
            "text/html": [
              "\n",
              "  <div id=\"df-c51a25b9-60a3-4eb6-b9b5-96c3b5e40cc8\" class=\"colab-df-container\">\n",
              "    <div>\n",
              "<style scoped>\n",
              "    .dataframe tbody tr th:only-of-type {\n",
              "        vertical-align: middle;\n",
              "    }\n",
              "\n",
              "    .dataframe tbody tr th {\n",
              "        vertical-align: top;\n",
              "    }\n",
              "\n",
              "    .dataframe thead th {\n",
              "        text-align: right;\n",
              "    }\n",
              "</style>\n",
              "<table border=\"1\" class=\"dataframe\">\n",
              "  <thead>\n",
              "    <tr style=\"text-align: right;\">\n",
              "      <th></th>\n",
              "      <th>continent</th>\n",
              "      <th>location</th>\n",
              "      <th>date</th>\n",
              "      <th>total_cases</th>\n",
              "      <th>total_deaths</th>\n",
              "      <th>gdp_per_capita</th>\n",
              "      <th>human_development_index</th>\n",
              "      <th>month</th>\n",
              "    </tr>\n",
              "  </thead>\n",
              "  <tbody>\n",
              "    <tr>\n",
              "      <th>0</th>\n",
              "      <td>Africa</td>\n",
              "      <td>Zimbabwe</td>\n",
              "      <td>2020-12-11</td>\n",
              "      <td>752269.0</td>\n",
              "      <td>20314.0</td>\n",
              "      <td>26382.287</td>\n",
              "      <td>0.797</td>\n",
              "      <td>12</td>\n",
              "    </tr>\n",
              "    <tr>\n",
              "      <th>1</th>\n",
              "      <td>Asia</td>\n",
              "      <td>Yemen</td>\n",
              "      <td>2020-12-11</td>\n",
              "      <td>8874290.0</td>\n",
              "      <td>130519.0</td>\n",
              "      <td>116935.600</td>\n",
              "      <td>0.933</td>\n",
              "      <td>12</td>\n",
              "    </tr>\n",
              "    <tr>\n",
              "      <th>2</th>\n",
              "      <td>Europe</td>\n",
              "      <td>Vatican</td>\n",
              "      <td>2020-12-11</td>\n",
              "      <td>1991233.0</td>\n",
              "      <td>52147.0</td>\n",
              "      <td>94277.965</td>\n",
              "      <td>0.953</td>\n",
              "      <td>12</td>\n",
              "    </tr>\n",
              "    <tr>\n",
              "      <th>3</th>\n",
              "      <td>North America</td>\n",
              "      <td>United States Virgin Islands</td>\n",
              "      <td>2020-12-11</td>\n",
              "      <td>11205486.0</td>\n",
              "      <td>247220.0</td>\n",
              "      <td>54225.446</td>\n",
              "      <td>0.926</td>\n",
              "      <td>12</td>\n",
              "    </tr>\n",
              "    <tr>\n",
              "      <th>4</th>\n",
              "      <td>Oceania</td>\n",
              "      <td>Wallis and Futuna</td>\n",
              "      <td>2020-12-11</td>\n",
              "      <td>27750.0</td>\n",
              "      <td>907.0</td>\n",
              "      <td>44648.710</td>\n",
              "      <td>0.939</td>\n",
              "      <td>12</td>\n",
              "    </tr>\n",
              "    <tr>\n",
              "      <th>5</th>\n",
              "      <td>South America</td>\n",
              "      <td>Venezuela</td>\n",
              "      <td>2020-12-11</td>\n",
              "      <td>5876464.0</td>\n",
              "      <td>166014.0</td>\n",
              "      <td>22767.037</td>\n",
              "      <td>0.843</td>\n",
              "      <td>12</td>\n",
              "    </tr>\n",
              "  </tbody>\n",
              "</table>\n",
              "</div>\n",
              "    <div class=\"colab-df-buttons\">\n",
              "\n",
              "  <div class=\"colab-df-container\">\n",
              "    <button class=\"colab-df-convert\" onclick=\"convertToInteractive('df-c51a25b9-60a3-4eb6-b9b5-96c3b5e40cc8')\"\n",
              "            title=\"Convert this dataframe to an interactive table.\"\n",
              "            style=\"display:none;\">\n",
              "\n",
              "  <svg xmlns=\"http://www.w3.org/2000/svg\" height=\"24px\" viewBox=\"0 -960 960 960\">\n",
              "    <path d=\"M120-120v-720h720v720H120Zm60-500h600v-160H180v160Zm220 220h160v-160H400v160Zm0 220h160v-160H400v160ZM180-400h160v-160H180v160Zm440 0h160v-160H620v160ZM180-180h160v-160H180v160Zm440 0h160v-160H620v160Z\"/>\n",
              "  </svg>\n",
              "    </button>\n",
              "\n",
              "  <style>\n",
              "    .colab-df-container {\n",
              "      display:flex;\n",
              "      gap: 12px;\n",
              "    }\n",
              "\n",
              "    .colab-df-convert {\n",
              "      background-color: #E8F0FE;\n",
              "      border: none;\n",
              "      border-radius: 50%;\n",
              "      cursor: pointer;\n",
              "      display: none;\n",
              "      fill: #1967D2;\n",
              "      height: 32px;\n",
              "      padding: 0 0 0 0;\n",
              "      width: 32px;\n",
              "    }\n",
              "\n",
              "    .colab-df-convert:hover {\n",
              "      background-color: #E2EBFA;\n",
              "      box-shadow: 0px 1px 2px rgba(60, 64, 67, 0.3), 0px 1px 3px 1px rgba(60, 64, 67, 0.15);\n",
              "      fill: #174EA6;\n",
              "    }\n",
              "\n",
              "    .colab-df-buttons div {\n",
              "      margin-bottom: 4px;\n",
              "    }\n",
              "\n",
              "    [theme=dark] .colab-df-convert {\n",
              "      background-color: #3B4455;\n",
              "      fill: #D2E3FC;\n",
              "    }\n",
              "\n",
              "    [theme=dark] .colab-df-convert:hover {\n",
              "      background-color: #434B5C;\n",
              "      box-shadow: 0px 1px 3px 1px rgba(0, 0, 0, 0.15);\n",
              "      filter: drop-shadow(0px 1px 2px rgba(0, 0, 0, 0.3));\n",
              "      fill: #FFFFFF;\n",
              "    }\n",
              "  </style>\n",
              "\n",
              "    <script>\n",
              "      const buttonEl =\n",
              "        document.querySelector('#df-c51a25b9-60a3-4eb6-b9b5-96c3b5e40cc8 button.colab-df-convert');\n",
              "      buttonEl.style.display =\n",
              "        google.colab.kernel.accessAllowed ? 'block' : 'none';\n",
              "\n",
              "      async function convertToInteractive(key) {\n",
              "        const element = document.querySelector('#df-c51a25b9-60a3-4eb6-b9b5-96c3b5e40cc8');\n",
              "        const dataTable =\n",
              "          await google.colab.kernel.invokeFunction('convertToInteractive',\n",
              "                                                    [key], {});\n",
              "        if (!dataTable) return;\n",
              "\n",
              "        const docLinkHtml = 'Like what you see? Visit the ' +\n",
              "          '<a target=\"_blank\" href=https://colab.research.google.com/notebooks/data_table.ipynb>data table notebook</a>'\n",
              "          + ' to learn more about interactive tables.';\n",
              "        element.innerHTML = '';\n",
              "        dataTable['output_type'] = 'display_data';\n",
              "        await google.colab.output.renderOutput(dataTable, element);\n",
              "        const docLink = document.createElement('div');\n",
              "        docLink.innerHTML = docLinkHtml;\n",
              "        element.appendChild(docLink);\n",
              "      }\n",
              "    </script>\n",
              "  </div>\n",
              "\n",
              "\n",
              "<div id=\"df-9cda4388-6d75-41b9-ac21-ccacb8d31f7d\">\n",
              "  <button class=\"colab-df-quickchart\" onclick=\"quickchart('df-9cda4388-6d75-41b9-ac21-ccacb8d31f7d')\"\n",
              "            title=\"Suggest charts\"\n",
              "            style=\"display:none;\">\n",
              "\n",
              "<svg xmlns=\"http://www.w3.org/2000/svg\" height=\"24px\"viewBox=\"0 0 24 24\"\n",
              "     width=\"24px\">\n",
              "    <g>\n",
              "        <path d=\"M19 3H5c-1.1 0-2 .9-2 2v14c0 1.1.9 2 2 2h14c1.1 0 2-.9 2-2V5c0-1.1-.9-2-2-2zM9 17H7v-7h2v7zm4 0h-2V7h2v10zm4 0h-2v-4h2v4z\"/>\n",
              "    </g>\n",
              "</svg>\n",
              "  </button>\n",
              "\n",
              "<style>\n",
              "  .colab-df-quickchart {\n",
              "      --bg-color: #E8F0FE;\n",
              "      --fill-color: #1967D2;\n",
              "      --hover-bg-color: #E2EBFA;\n",
              "      --hover-fill-color: #174EA6;\n",
              "      --disabled-fill-color: #AAA;\n",
              "      --disabled-bg-color: #DDD;\n",
              "  }\n",
              "\n",
              "  [theme=dark] .colab-df-quickchart {\n",
              "      --bg-color: #3B4455;\n",
              "      --fill-color: #D2E3FC;\n",
              "      --hover-bg-color: #434B5C;\n",
              "      --hover-fill-color: #FFFFFF;\n",
              "      --disabled-bg-color: #3B4455;\n",
              "      --disabled-fill-color: #666;\n",
              "  }\n",
              "\n",
              "  .colab-df-quickchart {\n",
              "    background-color: var(--bg-color);\n",
              "    border: none;\n",
              "    border-radius: 50%;\n",
              "    cursor: pointer;\n",
              "    display: none;\n",
              "    fill: var(--fill-color);\n",
              "    height: 32px;\n",
              "    padding: 0;\n",
              "    width: 32px;\n",
              "  }\n",
              "\n",
              "  .colab-df-quickchart:hover {\n",
              "    background-color: var(--hover-bg-color);\n",
              "    box-shadow: 0 1px 2px rgba(60, 64, 67, 0.3), 0 1px 3px 1px rgba(60, 64, 67, 0.15);\n",
              "    fill: var(--button-hover-fill-color);\n",
              "  }\n",
              "\n",
              "  .colab-df-quickchart-complete:disabled,\n",
              "  .colab-df-quickchart-complete:disabled:hover {\n",
              "    background-color: var(--disabled-bg-color);\n",
              "    fill: var(--disabled-fill-color);\n",
              "    box-shadow: none;\n",
              "  }\n",
              "\n",
              "  .colab-df-spinner {\n",
              "    border: 2px solid var(--fill-color);\n",
              "    border-color: transparent;\n",
              "    border-bottom-color: var(--fill-color);\n",
              "    animation:\n",
              "      spin 1s steps(1) infinite;\n",
              "  }\n",
              "\n",
              "  @keyframes spin {\n",
              "    0% {\n",
              "      border-color: transparent;\n",
              "      border-bottom-color: var(--fill-color);\n",
              "      border-left-color: var(--fill-color);\n",
              "    }\n",
              "    20% {\n",
              "      border-color: transparent;\n",
              "      border-left-color: var(--fill-color);\n",
              "      border-top-color: var(--fill-color);\n",
              "    }\n",
              "    30% {\n",
              "      border-color: transparent;\n",
              "      border-left-color: var(--fill-color);\n",
              "      border-top-color: var(--fill-color);\n",
              "      border-right-color: var(--fill-color);\n",
              "    }\n",
              "    40% {\n",
              "      border-color: transparent;\n",
              "      border-right-color: var(--fill-color);\n",
              "      border-top-color: var(--fill-color);\n",
              "    }\n",
              "    60% {\n",
              "      border-color: transparent;\n",
              "      border-right-color: var(--fill-color);\n",
              "    }\n",
              "    80% {\n",
              "      border-color: transparent;\n",
              "      border-right-color: var(--fill-color);\n",
              "      border-bottom-color: var(--fill-color);\n",
              "    }\n",
              "    90% {\n",
              "      border-color: transparent;\n",
              "      border-bottom-color: var(--fill-color);\n",
              "    }\n",
              "  }\n",
              "</style>\n",
              "\n",
              "  <script>\n",
              "    async function quickchart(key) {\n",
              "      const quickchartButtonEl =\n",
              "        document.querySelector('#' + key + ' button');\n",
              "      quickchartButtonEl.disabled = true;  // To prevent multiple clicks.\n",
              "      quickchartButtonEl.classList.add('colab-df-spinner');\n",
              "      try {\n",
              "        const charts = await google.colab.kernel.invokeFunction(\n",
              "            'suggestCharts', [key], {});\n",
              "      } catch (error) {\n",
              "        console.error('Error during call to suggestCharts:', error);\n",
              "      }\n",
              "      quickchartButtonEl.classList.remove('colab-df-spinner');\n",
              "      quickchartButtonEl.classList.add('colab-df-quickchart-complete');\n",
              "    }\n",
              "    (() => {\n",
              "      let quickchartButtonEl =\n",
              "        document.querySelector('#df-9cda4388-6d75-41b9-ac21-ccacb8d31f7d button');\n",
              "      quickchartButtonEl.style.display =\n",
              "        google.colab.kernel.accessAllowed ? 'block' : 'none';\n",
              "    })();\n",
              "  </script>\n",
              "</div>\n",
              "\n",
              "  <div id=\"id_e62ae936-1caf-4970-928f-dec0a083b6e0\">\n",
              "    <style>\n",
              "      .colab-df-generate {\n",
              "        background-color: #E8F0FE;\n",
              "        border: none;\n",
              "        border-radius: 50%;\n",
              "        cursor: pointer;\n",
              "        display: none;\n",
              "        fill: #1967D2;\n",
              "        height: 32px;\n",
              "        padding: 0 0 0 0;\n",
              "        width: 32px;\n",
              "      }\n",
              "\n",
              "      .colab-df-generate:hover {\n",
              "        background-color: #E2EBFA;\n",
              "        box-shadow: 0px 1px 2px rgba(60, 64, 67, 0.3), 0px 1px 3px 1px rgba(60, 64, 67, 0.15);\n",
              "        fill: #174EA6;\n",
              "      }\n",
              "\n",
              "      [theme=dark] .colab-df-generate {\n",
              "        background-color: #3B4455;\n",
              "        fill: #D2E3FC;\n",
              "      }\n",
              "\n",
              "      [theme=dark] .colab-df-generate:hover {\n",
              "        background-color: #434B5C;\n",
              "        box-shadow: 0px 1px 3px 1px rgba(0, 0, 0, 0.15);\n",
              "        filter: drop-shadow(0px 1px 2px rgba(0, 0, 0, 0.3));\n",
              "        fill: #FFFFFF;\n",
              "      }\n",
              "    </style>\n",
              "    <button class=\"colab-df-generate\" onclick=\"generateWithVariable('df_groupby')\"\n",
              "            title=\"Generate code using this dataframe.\"\n",
              "            style=\"display:none;\">\n",
              "\n",
              "  <svg xmlns=\"http://www.w3.org/2000/svg\" height=\"24px\"viewBox=\"0 0 24 24\"\n",
              "       width=\"24px\">\n",
              "    <path d=\"M7,19H8.4L18.45,9,17,7.55,7,17.6ZM5,21V16.75L18.45,3.32a2,2,0,0,1,2.83,0l1.4,1.43a1.91,1.91,0,0,1,.58,1.4,1.91,1.91,0,0,1-.58,1.4L9.25,21ZM18.45,9,17,7.55Zm-12,3A5.31,5.31,0,0,0,4.9,8.1,5.31,5.31,0,0,0,1,6.5,5.31,5.31,0,0,0,4.9,4.9,5.31,5.31,0,0,0,6.5,1,5.31,5.31,0,0,0,8.1,4.9,5.31,5.31,0,0,0,12,6.5,5.46,5.46,0,0,0,6.5,12Z\"/>\n",
              "  </svg>\n",
              "    </button>\n",
              "    <script>\n",
              "      (() => {\n",
              "      const buttonEl =\n",
              "        document.querySelector('#id_e62ae936-1caf-4970-928f-dec0a083b6e0 button.colab-df-generate');\n",
              "      buttonEl.style.display =\n",
              "        google.colab.kernel.accessAllowed ? 'block' : 'none';\n",
              "\n",
              "      buttonEl.onclick = () => {\n",
              "        google.colab.notebook.generateWithVariable('df_groupby');\n",
              "      }\n",
              "      })();\n",
              "    </script>\n",
              "  </div>\n",
              "\n",
              "    </div>\n",
              "  </div>\n"
            ],
            "application/vnd.google.colaboratory.intrinsic+json": {
              "type": "dataframe",
              "variable_name": "df_groupby",
              "summary": "{\n  \"name\": \"df_groupby\",\n  \"rows\": 6,\n  \"fields\": [\n    {\n      \"column\": \"continent\",\n      \"properties\": {\n        \"dtype\": \"string\",\n        \"num_unique_values\": 6,\n        \"samples\": [\n          \"Africa\",\n          \"Asia\",\n          \"South America\"\n        ],\n        \"semantic_type\": \"\",\n        \"description\": \"\"\n      }\n    },\n    {\n      \"column\": \"location\",\n      \"properties\": {\n        \"dtype\": \"string\",\n        \"num_unique_values\": 6,\n        \"samples\": [\n          \"Zimbabwe\",\n          \"Yemen\",\n          \"Venezuela\"\n        ],\n        \"semantic_type\": \"\",\n        \"description\": \"\"\n      }\n    },\n    {\n      \"column\": \"date\",\n      \"properties\": {\n        \"dtype\": \"date\",\n        \"min\": \"2020-12-11 00:00:00\",\n        \"max\": \"2020-12-11 00:00:00\",\n        \"num_unique_values\": 1,\n        \"samples\": [\n          \"2020-12-11 00:00:00\"\n        ],\n        \"semantic_type\": \"\",\n        \"description\": \"\"\n      }\n    },\n    {\n      \"column\": \"total_cases\",\n      \"properties\": {\n        \"dtype\": \"number\",\n        \"std\": 4600775.082086307,\n        \"min\": 27750.0,\n        \"max\": 11205486.0,\n        \"num_unique_values\": 6,\n        \"samples\": [\n          752269.0\n        ],\n        \"semantic_type\": \"\",\n        \"description\": \"\"\n      }\n    },\n    {\n      \"column\": \"total_deaths\",\n      \"properties\": {\n        \"dtype\": \"number\",\n        \"std\": 95261.0329961837,\n        \"min\": 907.0,\n        \"max\": 247220.0,\n        \"num_unique_values\": 6,\n        \"samples\": [\n          20314.0\n        ],\n        \"semantic_type\": \"\",\n        \"description\": \"\"\n      }\n    },\n    {\n      \"column\": \"gdp_per_capita\",\n      \"properties\": {\n        \"dtype\": \"number\",\n        \"std\": 37952.59188738491,\n        \"min\": 22767.037,\n        \"max\": 116935.6,\n        \"num_unique_values\": 6,\n        \"samples\": [\n          26382.287\n        ],\n        \"semantic_type\": \"\",\n        \"description\": \"\"\n      }\n    },\n    {\n      \"column\": \"human_development_index\",\n      \"properties\": {\n        \"dtype\": \"number\",\n        \"std\": 0.0631498218524803,\n        \"min\": 0.797,\n        \"max\": 0.953,\n        \"num_unique_values\": 6,\n        \"samples\": [\n          0.797\n        ],\n        \"semantic_type\": \"\",\n        \"description\": \"\"\n      }\n    },\n    {\n      \"column\": \"month\",\n      \"properties\": {\n        \"dtype\": \"int32\",\n        \"num_unique_values\": 1,\n        \"samples\": [\n          12\n        ],\n        \"semantic_type\": \"\",\n        \"description\": \"\"\n      }\n    }\n  ]\n}"
            }
          },
          "metadata": {},
          "execution_count": 71
        }
      ]
    },
    {
      "cell_type": "markdown",
      "source": [
        "## 9). Feature Engineering"
      ],
      "metadata": {
        "id": "oAQgotTSKBzM"
      }
    },
    {
      "cell_type": "code",
      "source": [
        "# Create new feature 'total_deaths_to_total_cases'\n",
        "df_groupby[\"total_deaths_to_total_cases\"]=df_groupby[\"total_deaths\"]/df_groupby[\"total_cases\"]\n",
        "df_groupby[\"total_deaths_to_total_cases\"]*100"
      ],
      "metadata": {
        "colab": {
          "base_uri": "https://localhost:8080/",
          "height": 272
        },
        "id": "yD2iqVHqKFE1",
        "outputId": "661643d9-339e-4fc7-8358-ebfb14648d33"
      },
      "execution_count": null,
      "outputs": [
        {
          "output_type": "execute_result",
          "data": {
            "text/plain": [
              "0    2.700364\n",
              "1    1.470754\n",
              "2    2.618830\n",
              "3    2.206241\n",
              "4    3.268468\n",
              "5    2.825066\n",
              "Name: total_deaths_to_total_cases, dtype: float64"
            ],
            "text/html": [
              "<div>\n",
              "<style scoped>\n",
              "    .dataframe tbody tr th:only-of-type {\n",
              "        vertical-align: middle;\n",
              "    }\n",
              "\n",
              "    .dataframe tbody tr th {\n",
              "        vertical-align: top;\n",
              "    }\n",
              "\n",
              "    .dataframe thead th {\n",
              "        text-align: right;\n",
              "    }\n",
              "</style>\n",
              "<table border=\"1\" class=\"dataframe\">\n",
              "  <thead>\n",
              "    <tr style=\"text-align: right;\">\n",
              "      <th></th>\n",
              "      <th>total_deaths_to_total_cases</th>\n",
              "    </tr>\n",
              "  </thead>\n",
              "  <tbody>\n",
              "    <tr>\n",
              "      <th>0</th>\n",
              "      <td>2.700364</td>\n",
              "    </tr>\n",
              "    <tr>\n",
              "      <th>1</th>\n",
              "      <td>1.470754</td>\n",
              "    </tr>\n",
              "    <tr>\n",
              "      <th>2</th>\n",
              "      <td>2.618830</td>\n",
              "    </tr>\n",
              "    <tr>\n",
              "      <th>3</th>\n",
              "      <td>2.206241</td>\n",
              "    </tr>\n",
              "    <tr>\n",
              "      <th>4</th>\n",
              "      <td>3.268468</td>\n",
              "    </tr>\n",
              "    <tr>\n",
              "      <th>5</th>\n",
              "      <td>2.825066</td>\n",
              "    </tr>\n",
              "  </tbody>\n",
              "</table>\n",
              "</div><br><label><b>dtype:</b> float64</label>"
            ]
          },
          "metadata": {},
          "execution_count": 78
        }
      ]
    },
    {
      "cell_type": "markdown",
      "source": [
        "## 10). Data Visualization"
      ],
      "metadata": {
        "id": "DooLEEDBKlGR"
      }
    },
    {
      "cell_type": "code",
      "source": [
        "# A. Univariate analysis on 'gdp_per_capita'\n",
        "sns.histplot(df['gdp_per_capita'], kde=True)\n",
        "plt.title(\"Distribution of GDP per Capita\")\n",
        "plt.show()"
      ],
      "metadata": {
        "colab": {
          "base_uri": "https://localhost:8080/",
          "height": 472
        },
        "id": "1ct9iZ9LKpPJ",
        "outputId": "5d269845-d3e7-4fb3-e3a9-5ce003a56001"
      },
      "execution_count": null,
      "outputs": [
        {
          "output_type": "display_data",
          "data": {
            "text/plain": [
              "<Figure size 640x480 with 1 Axes>"
            ],
            "image/png": "[encoded data removed]"
          },
          "metadata": {}
        }
      ]
    },
    {
      "cell_type": "code",
      "source": [
        "# B. Scatter plot of 'total_cases' vs 'gdp_per_capita'\n",
        "sns.scatterplot(x='total_cases', y='gdp_per_capita', data=df)\n",
        "plt.title(\"Total Cases vs GDP per Capita\")\n",
        "plt.show()"
      ],
      "metadata": {
        "colab": {
          "base_uri": "https://localhost:8080/",
          "height": 472
        },
        "id": "HrfSvKWnLJ9E",
        "outputId": "a232863c-f8bb-46d4-b6a1-183c9b12d9ac"
      },
      "execution_count": null,
      "outputs": [
        {
          "output_type": "display_data",
          "data": {
            "text/plain": [
              "<Figure size 640x480 with 1 Axes>"
            ],
            "image/png": "[encoded data removed]"
          },
          "metadata": {}
        }
      ]
    },
    {
      "cell_type": "code",
      "source": [
        "# C. Pairplot on df_groupby\n",
        "sns.pairplot(df_groupby)"
      ],
      "metadata": {
        "colab": {
          "base_uri": "https://localhost:8080/",
          "height": 1510
        },
        "id": "NdSrtQRTLUV1",
        "outputId": "f20e8cfe-a183-4be0-cfef-3d0fe3c1642f"
      },
      "execution_count": null,
      "outputs": [
        {
          "output_type": "execute_result",
          "data": {
            "text/plain": [
              "<seaborn.axisgrid.PairGrid at 0x78d89a029a90>"
            ]
          },
          "metadata": {},
          "execution_count": 92
        },
        {
          "output_type": "display_data",
          "data": {
            "text/plain": [
              "<Figure size 1500x1500 with 42 Axes>"
            ],
            "image/png": "[encoded data removed]"
          },
          "metadata": {}
        }
      ]
    },
    {
      "cell_type": "code",
      "source": [
        "# D. Bar plot of 'continent' vs 'total_cases'\n",
        "sns.catplot(x='continent', y='total_cases', data=df_groupby, kind='bar')\n",
        "plt.title(\"Total Cases by Continent\")\n",
        "plt.show()"
      ],
      "metadata": {
        "colab": {
          "base_uri": "https://localhost:8080/",
          "height": 514
        },
        "id": "K0JXzSQvMR17",
        "outputId": "1ebbb51c-d0e0-452e-971f-e0a30140ef4b"
      },
      "execution_count": null,
      "outputs": [
        {
          "output_type": "display_data",
          "data": {
            "text/plain": [
              "<Figure size 511.111x500 with 1 Axes>"
            ],
            "image/png": "[encoded data removed]"
          },
          "metadata": {}
        }
      ]
    },
    {
      "cell_type": "markdown",
      "source": [
        "## 11). Save the DataFrame"
      ],
      "metadata": {
        "id": "LMUw4NPNM4w3"
      }
    },
    {
      "cell_type": "code",
      "source": [
        "df_groupby.to_csv('df_groupby.csv', index=False)"
      ],
      "metadata": {
        "id": "GC1byLzGNArP"
      },
      "execution_count": null,
      "outputs": []
    }
  ]
}